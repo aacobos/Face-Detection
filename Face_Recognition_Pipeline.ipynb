{
  "nbformat": 4,
  "nbformat_minor": 0,
  "metadata": {
    "colab": {
      "provenance": []
    },
    "kernelspec": {
      "name": "python3",
      "display_name": "Python 3"
    },
    "language_info": {
      "name": "python"
    }
  },
  "cells": [
    {
      "cell_type": "code",
      "source": [
        "# ======================================\n",
        "#  Notebook: Face Detection + Recognition\n",
        "# ======================================\n",
        "\n",
        "# 1. Setup do ambiente\n",
        "!pip install mtcnn keras-vggface keras-applications scikit-learn\n",
        "\n",
        "import cv2\n",
        "import matplotlib.pyplot as plt\n",
        "import numpy as np\n",
        "from mtcnn.mtcnn import MTCNN\n",
        "from keras_vggface.vggface import VGGFace\n",
        "from keras_vggface.utils import preprocess_input\n",
        "from sklearn.svm import SVC"
      ],
      "metadata": {
        "id": "efXDxMy2g_g7"
      },
      "execution_count": null,
      "outputs": []
    },
    {
      "cell_type": "code",
      "source": [
        "# 2. Carregar detector de faces (MTCNN)\n",
        "detector = MTCNN()"
      ],
      "metadata": {
        "id": "MtFDFM83hnND"
      },
      "execution_count": null,
      "outputs": []
    },
    {
      "cell_type": "code",
      "source": [
        "# 3. Carregar modelo VGGFace para embeddings\n",
        "model = VGGFace(model=\"resnet50\", include_top=False, pooling=\"avg\")\n",
        "\n",
        "# Função para extrair rostos\n",
        "def extract_faces(image_path):\n",
        "    img = cv2.imread(image_path)\n",
        "    img_rgb = cv2.cvtColor(img, cv2.COLOR_BGR2RGB)\n",
        "    faces = detector.detect_faces(img_rgb)\n",
        "    face_images = []\n",
        "    boxes = []\n",
        "    for f in faces:\n",
        "        x, y, w, h = f['box']\n",
        "        face = img_rgb[y:y+h, x:x+w]\n",
        "        face_images.append(face)\n",
        "        boxes.append((x, y, w, h))\n",
        "    return img_rgb, face_images, boxes\n",
        "\n",
        "# Função para gerar embedding\n",
        "def get_embedding(face_pixels):\n",
        "    face_pixels = cv2.resize(face_pixels, (224, 224))\n",
        "    face_pixels = np.expand_dims(face_pixels, axis=0).astype('float32')\n",
        "    face_pixels = preprocess_input(face_pixels, version=2)\n",
        "    embedding = model.predict(face_pixels)\n",
        "    return embedding[0]"
      ],
      "metadata": {
        "id": "DcEWzRJ4hruT"
      },
      "execution_count": null,
      "outputs": []
    },
    {
      "cell_type": "code",
      "source": [
        "# 4. Exemplo de dataset (adicione imagens suas aqui)\n",
        "# Exemplo fictício com 2 classes: pessoa1.jpg, pessoa2.jpg\n",
        "X, y = [], []\n",
        "\n",
        "for img_path, label in [(\"pessoa1.jpg\", \"Pessoa 1\"), (\"pessoa2.jpg\", \"Pessoa 2\")]:\n",
        "    img_rgb, faces, boxes = extract_faces(img_path)\n",
        "    for face in faces:\n",
        "        emb = get_embedding(face)\n",
        "        X.append(emb)\n",
        "        y.append(label)\n",
        "\n",
        "X = np.array(X)\n",
        "y = np.array(y)"
      ],
      "metadata": {
        "id": "PTBMSTHthvPD"
      },
      "execution_count": null,
      "outputs": []
    },
    {
      "cell_type": "code",
      "source": [
        "# 5. Treinar classificador SVM\n",
        "clf = SVC(kernel='linear', probability=True)\n",
        "clf.fit(X, y)"
      ],
      "metadata": {
        "id": "w0f8Z7Hzhxo6"
      },
      "execution_count": null,
      "outputs": []
    },
    {
      "cell_type": "code",
      "source": [
        "# 6. Testar em nova imagem\n",
        "img_rgb, faces, boxes = extract_faces(\"teste.jpg\")\n",
        "\n",
        "for i, face in enumerate(faces):\n",
        "    emb = get_embedding(face)\n",
        "    pred = clf.predict([emb])[0]\n",
        "    x, y0, w, h = boxes[i]\n",
        "    cv2.rectangle(img_rgb, (x,y0), (x+w,y0+h), (0,255,0), 2)\n",
        "    cv2.putText(img_rgb, pred, (x, y0-10), cv2.FONT_HERSHEY_SIMPLEX, 0.9, (0,255,0), 2)\n",
        "\n",
        "plt.imshow(img_rgb)\n",
        "plt.axis(\"off\")\n",
        "plt.show()"
      ],
      "metadata": {
        "id": "dicwv4r9h0vj"
      },
      "execution_count": null,
      "outputs": []
    }
  ]
}